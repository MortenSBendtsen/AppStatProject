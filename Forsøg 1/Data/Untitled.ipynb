{
 "cells": [
  {
   "cell_type": "code",
   "execution_count": null,
   "id": "7c39db8c",
   "metadata": {},
   "outputs": [],
   "source": []
  },
  {
   "cell_type": "code",
   "execution_count": 8,
   "id": "9b2e18f7",
   "metadata": {},
   "outputs": [
    {
     "name": "stderr",
     "output_type": "stream",
     "text": [
      "<>:50: SyntaxWarning: \"is\" with a literal. Did you mean \"==\"?\n",
      "<>:50: SyntaxWarning: \"is\" with a literal. Did you mean \"==\"?\n"
     ]
    },
    {
     "name": "stdout",
     "output_type": "stream",
     "text": [
      "The file  timer_output.dat  already exists in this directory.\n",
      "Please enter a new name for your output file: Emilie1.dat\n"
     ]
    },
    {
     "name": "stderr",
     "output_type": "stream",
     "text": [
      "/var/folders/l9/7ykmj18j3jqgkz804wjt5mg00000gn/T/ipykernel_4705/4185352830.py:50: SyntaxWarning: \"is\" with a literal. Did you mean \"==\"?\n",
      "  while( input( \"%4d \\t %10.4f \\t Laptime by enter, Exit by key+enter \\t\"%(counter, laptime) ) is \"\" ) :\n"
     ]
    },
    {
     "name": "stdout",
     "output_type": "stream",
     "text": [
      "   0 \t     0.0000 \t Laptime by enter, Exit by key+enter \t\n",
      "   1 \t    39.4560 \t Laptime by enter, Exit by key+enter \t\n",
      "   2 \t    40.9763 \t Laptime by enter, Exit by key+enter \t\n",
      "   3 \t    45.1091 \t Laptime by enter, Exit by key+enter \t\n",
      "   4 \t    47.9804 \t Laptime by enter, Exit by key+enter \t\n",
      "   5 \t    50.8163 \t Laptime by enter, Exit by key+enter \t\n",
      "   6 \t    53.7164 \t Laptime by enter, Exit by key+enter \t\n",
      "   7 \t    56.5175 \t Laptime by enter, Exit by key+enter \t\n",
      "   8 \t    59.4238 \t Laptime by enter, Exit by key+enter \t\n",
      "   9 \t    62.1704 \t Laptime by enter, Exit by key+enter \t\n",
      "  10 \t    65.1761 \t Laptime by enter, Exit by key+enter \t\n",
      "  11 \t    67.9609 \t Laptime by enter, Exit by key+enter \t\n",
      "  12 \t    70.8099 \t Laptime by enter, Exit by key+enter \t\n",
      "  13 \t    73.7001 \t Laptime by enter, Exit by key+enter \t\n",
      "  14 \t    76.5076 \t Laptime by enter, Exit by key+enter \t\n",
      "  15 \t    79.3504 \t Laptime by enter, Exit by key+enter \t\n",
      "  16 \t    82.2120 \t Laptime by enter, Exit by key+enter \t\n",
      "  17 \t    85.0600 \t Laptime by enter, Exit by key+enter \t\n",
      "  18 \t    87.9085 \t Laptime by enter, Exit by key+enter \t\n",
      "  19 \t    90.7858 \t Laptime by enter, Exit by key+enter \t\n",
      "  20 \t    93.6424 \t Laptime by enter, Exit by key+enter \t\n",
      "  21 \t    96.5270 \t Laptime by enter, Exit by key+enter \t\n",
      "  22 \t    99.4259 \t Laptime by enter, Exit by key+enter \t\n",
      "  23 \t   102.2850 \t Laptime by enter, Exit by key+enter \t\n",
      "  24 \t   105.0668 \t Laptime by enter, Exit by key+enter \t\n",
      "  25 \t   107.9294 \t Laptime by enter, Exit by key+enter \t\n",
      "  26 \t   110.7258 \t Laptime by enter, Exit by key+enter \t\n",
      "  27 \t   113.6372 \t Laptime by enter, Exit by key+enter \t\n",
      "  28 \t   116.5235 \t Laptime by enter, Exit by key+enter \t\n",
      "  29 \t   119.3226 \t Laptime by enter, Exit by key+enter \t\n",
      "  30 \t   122.2201 \t Laptime by enter, Exit by key+enter \t\n",
      "  31 \t   125.0613 \t Laptime by enter, Exit by key+enter \t\n",
      "  32 \t   127.9167 \t Laptime by enter, Exit by key+enter \t\n",
      "  33 \t   130.7108 \t Laptime by enter, Exit by key+enter \t\n",
      "  34 \t   133.6633 \t Laptime by enter, Exit by key+enter \tk\n",
      "Done.\n"
     ]
    }
   ],
   "source": [
    "#!/usr/bin/env python\n",
    "\n",
    "# ----------------------------------------------------------------------------------- #\n",
    "#  Simple stopwatch macro, writing result into a file (to be read by analysis program)\n",
    "# Python 3 version\n",
    "#\n",
    "#  Author: Troels C. Petersen (Niels Bohr Institute)\n",
    "#  Date:   25-11-2016\n",
    "#\n",
    "# ----------------------------------------------------------------------------------- #\n",
    "\n",
    "from time import time\n",
    "import os,sys\n",
    "\n",
    "name = \"timer_output.dat\"\n",
    "\n",
    "n = 0\n",
    "while (os.path.isfile(name)):\n",
    "    print(\"The file \",name,\" already exists in this directory.\")\n",
    "    name = input(\"Please enter a new name for your output file: \")\n",
    "    \n",
    "newname = name\n",
    "    \n",
    "# Make some check about the string entered\n",
    "if len(newname)==0:\n",
    "    good_name=False\n",
    "else:\n",
    "    good_name=(newname[0].isalpha())*(newname.endswith(\".dat\"))\n",
    "    \n",
    "while n<5 and (not good_name):\n",
    "    newname = input(\"Name must end with .dat and first character must be a letter: \")\n",
    "    n+=1\n",
    "    if len(newname)==0:\n",
    "        newname = input(\"Name must not be empty: \")\n",
    "        n+=1\n",
    "        continue\n",
    "    else:\n",
    "        good_name=(newname[0].isalpha())*(newname.endswith(\".dat\"))\n",
    "            \n",
    "if not good_name:\n",
    "    sys.exit(\"ERROR: Filename does not fulfill basic requirements.\")\n",
    "else:\n",
    "    name = newname\n",
    "        \n",
    "    \n",
    "with open(name, \"w\") as outfile : \n",
    "    now = time()\n",
    "    laptime = 0.0\n",
    "    counter = 0\n",
    "    while( input( \"%4d \\t %10.4f \\t Laptime by enter, Exit by key+enter \\t\"%(counter, laptime) ) is \"\" ) : \n",
    "        counter += 1\n",
    "        laptime = time()-now\n",
    "        outfile.write(\"%4d \\t %10.4f \\n\"%(counter, laptime))\n",
    "        \n",
    "    print(\"Done.\")"
   ]
  }
 ],
 "metadata": {
  "kernelspec": {
   "display_name": "Python 3 (ipykernel)",
   "language": "python",
   "name": "python3"
  },
  "language_info": {
   "codemirror_mode": {
    "name": "ipython",
    "version": 3
   },
   "file_extension": ".py",
   "mimetype": "text/x-python",
   "name": "python",
   "nbconvert_exporter": "python",
   "pygments_lexer": "ipython3",
   "version": "3.8.12"
  }
 },
 "nbformat": 4,
 "nbformat_minor": 5
}

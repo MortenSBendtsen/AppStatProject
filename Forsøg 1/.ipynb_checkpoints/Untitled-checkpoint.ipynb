{
 "cells": [
  {
   "cell_type": "code",
   "execution_count": null,
   "id": "9b2e18f7",
   "metadata": {},
   "outputs": [
    {
     "name": "stderr",
     "output_type": "stream",
     "text": [
      "<>:50: SyntaxWarning: \"is\" with a literal. Did you mean \"==\"?\n",
      "<>:50: SyntaxWarning: \"is\" with a literal. Did you mean \"==\"?\n"
     ]
    },
    {
     "name": "stdout",
     "output_type": "stream",
     "text": [
      "The file  timer_output.dat  already exists in this directory.\n"
     ]
    }
   ],
   "source": [
    "#!/usr/bin/env python\n",
    "\n",
    "# ----------------------------------------------------------------------------------- #\n",
    "#  Simple stopwatch macro, writing result into a file (to be read by analysis program)\n",
    "# Python 3 version\n",
    "#\n",
    "#  Author: Troels C. Petersen (Niels Bohr Institute)\n",
    "#  Date:   25-11-2016\n",
    "#\n",
    "# ----------------------------------------------------------------------------------- #\n",
    "\n",
    "from time import time\n",
    "import os,sys\n",
    "\n",
    "name = \"timer_output.dat\"\n",
    "\n",
    "n = 0\n",
    "while (os.path.isfile(name)):\n",
    "    print(\"The file \",name,\" already exists in this directory.\")\n",
    "    name = input(\"Please enter a new name for your output file: \")\n",
    "    \n",
    "newname = name\n",
    "    \n",
    "# Make some check about the string entered\n",
    "if len(newname)==0:\n",
    "    good_name=False\n",
    "else:\n",
    "    good_name=(newname[0].isalpha())*(newname.endswith(\".dat\"))\n",
    "    \n",
    "while n<5 and (not good_name):\n",
    "    newname = input(\"Name must end with .dat and first character must be a letter: \")\n",
    "    n+=1\n",
    "    if len(newname)==0:\n",
    "        newname = input(\"Name must not be empty: \")\n",
    "        n+=1\n",
    "        continue\n",
    "    else:\n",
    "        good_name=(newname[0].isalpha())*(newname.endswith(\".dat\"))\n",
    "            \n",
    "if not good_name:\n",
    "    sys.exit(\"ERROR: Filename does not fulfill basic requirements.\")\n",
    "else:\n",
    "    name = newname\n",
    "        \n",
    "    \n",
    "with open(name, \"w\") as outfile : \n",
    "    now = time()\n",
    "    laptime = 0.0\n",
    "    counter = 0\n",
    "    while( input( \"%4d \\t %10.4f \\t Laptime by enter, Exit by key+enter \\t\"%(counter, laptime) ) is \"\" ) : \n",
    "        counter += 1\n",
    "        laptime = time()-now\n",
    "        outfile.write(\"%4d \\t %10.4f \\n\"%(counter, laptime))\n",
    "        \n",
    "    print(\"Done.\")"
   ]
  },
  {
   "cell_type": "code",
   "execution_count": null,
   "id": "374cd339",
   "metadata": {},
   "outputs": [],
   "source": []
  }
 ],
 "metadata": {
  "kernelspec": {
   "display_name": "Python 3 (ipykernel)",
   "language": "python",
   "name": "python3"
  },
  "language_info": {
   "codemirror_mode": {
    "name": "ipython",
    "version": 3
   },
   "file_extension": ".py",
   "mimetype": "text/x-python",
   "name": "python",
   "nbconvert_exporter": "python",
   "pygments_lexer": "ipython3",
   "version": "3.8.12"
  }
 },
 "nbformat": 4,
 "nbformat_minor": 5
}

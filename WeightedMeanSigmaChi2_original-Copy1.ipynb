{
 "cells": [
  {
   "cell_type": "markdown",
   "metadata": {},
   "source": [
    "# Calculating Weighted Mean, Standard Deviation, $\\chi^2$ and $\\chi^2$-probability.\n",
    "\n",
    "Very small notebook testing if your calculation of the weighted mean, the standard deviation, the $\\chi^2$-value and the $\\chi^2$-probability are correct. We use as example five measurements of a distance (too a hook!) with uncertainty. You should insert your own code in the cells below. If you can run the entire notebook without any (Assertion)errors, your code has passed!\n",
    "\n",
    "***\n",
    "\n",
    "### Author(s): \n",
    "- Troels C. Petersen (Niels Bohr Institute)\n",
    "\n",
    "### Date:    \n",
    "- 17-11-2021 (latest update)"
   ]
  },
  {
   "cell_type": "code",
   "execution_count": 1,
   "metadata": {},
   "outputs": [],
   "source": [
    "import numpy as np\n",
    "from scipy import stats"
   ]
  },
  {
   "cell_type": "markdown",
   "metadata": {},
   "source": [
    "Below we define the data for the measurements of the heights of the hook (in mm, though that is irrelavant here) and their estimated uncertainties:"
   ]
  },
  {
   "cell_type": "code",
   "execution_count": 2,
   "metadata": {
    "lines_to_next_cell": 2
   },
   "outputs": [],
   "source": [
    "dhook = np.array([17.8, 18.1, 17.7, 17.7 ])\n",
    "err_dhook = np.array([0.5, 0.3, 0.5, 0.2])"
   ]
  },
  {
   "cell_type": "markdown",
   "metadata": {},
   "source": [
    "Testing the weighted mean calculation. This is where you should start pasting your code! "
   ]
  },
  {
   "cell_type": "code",
   "execution_count": 3,
   "metadata": {},
   "outputs": [
    {
     "name": "stdout",
     "output_type": "stream",
     "text": [
      "17.809823677581864\n"
     ]
    }
   ],
   "source": [
    "\n",
    "\n",
    "\n",
    "# Insert own code here to calculate the weighted mean, mean_weighted\n",
    "\n",
    "# mean_weighted = ...\n",
    "weight = 0\n",
    "for i in err_dhook:\n",
    "    weight += (1/i)**2\n",
    "\n",
    "mean_weighted = 0\n",
    "for i in range(len(dhook)):\n",
    "    mean_weighted += (dhook[i]*(1/err_dhook[i])**2)/weight\n",
    "\n",
    "print(mean_weighted)\n",
    "assert np.isclose(mean_weighted, 17.80982367758186)"
   ]
  },
  {
   "cell_type": "markdown",
   "metadata": {},
   "source": [
    "Testing the weighted error:"
   ]
  },
  {
   "cell_type": "code",
   "execution_count": 4,
   "metadata": {},
   "outputs": [
    {
     "name": "stdout",
     "output_type": "stream",
     "text": [
      "0.15056568396854866\n"
     ]
    }
   ],
   "source": [
    "\n",
    "\n",
    "\n",
    "# Insert own code here to calculate the weighted error, err_weighted\n",
    "\n",
    "\n",
    "# err_weighted = ...\n",
    "\"\"\"\n",
    "weight = 0\n",
    "for i in err_dhook:\n",
    "    weight += (1/i)\n",
    "\n",
    "err_weighted2 = 0\n",
    "for i in range(len(err_dhook)):\n",
    "    err_weighted2 += ((err_dhook[i])**2 * (1/err_dhook[i])**2)/(weight**2)\n",
    "err_weighted = np.sqrt(err_weighted2)\n",
    "\"\"\"\n",
    "\n",
    "err_weighted = np.sqrt(1/weight)\n",
    "\n",
    "print(err_weighted)\n",
    "assert np.isclose(err_weighted, 0.15056568396854866)"
   ]
  },
  {
   "cell_type": "markdown",
   "metadata": {},
   "source": [
    "Testing the $\\chi^2$-value:"
   ]
  },
  {
   "cell_type": "code",
   "execution_count": 5,
   "metadata": {},
   "outputs": [
    {
     "name": "stdout",
     "output_type": "stream",
     "text": [
      "1.2857430730478727\n"
     ]
    }
   ],
   "source": [
    "\n",
    "\n",
    "\n",
    "# Insert own code here to calculate the chi2 value, chi2\n",
    "\n",
    "\n",
    "#chi2 = ...\n",
    "\n",
    "\n",
    "Chi2 = np.sum(((np.array(dhook)-mean_weighted)/np.array(err_dhook))**2)\n",
    "\n",
    "\n",
    "print(Chi2)\n",
    "assert np.isclose(Chi2, 1.2857430730478727)"
   ]
  },
  {
   "cell_type": "markdown",
   "metadata": {},
   "source": [
    "Testing the $\\chi^2$-probability:"
   ]
  },
  {
   "cell_type": "code",
   "execution_count": null,
   "metadata": {
    "lines_to_next_cell": 2
   },
   "outputs": [],
   "source": [
    "\n",
    "\n",
    "\n",
    "# Insert own code here to calculate the chi2 probability, chi2_prob\n",
    "\n",
    "\n",
    "#chi2_prob = ...\n",
    "\n",
    "chi2_prob = stats.chi2.sf(Chi2, 3)\n",
    "\n",
    "print(chi2_prob)\n",
    "assert np.isclose(chi2_prob, 0.7325212770446814)"
   ]
  }
 ],
 "metadata": {
  "executable": "/usr/bin/env python2",
  "kernelspec": {
   "display_name": "Python 3 (ipykernel)",
   "language": "python",
   "name": "python3"
  },
  "language_info": {
   "codemirror_mode": {
    "name": "ipython",
    "version": 3
   },
   "file_extension": ".py",
   "mimetype": "text/x-python",
   "name": "python",
   "nbconvert_exporter": "python",
   "pygments_lexer": "ipython3",
   "version": "3.8.12"
  },
  "main_language": "python"
 },
 "nbformat": 4,
 "nbformat_minor": 2
}
